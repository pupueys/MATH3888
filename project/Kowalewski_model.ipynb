{
 "cells": [
  {
   "cell_type": "code",
   "execution_count": 2,
   "id": "88409b53",
   "metadata": {},
   "outputs": [],
   "source": [
    "import numpy as np\n",
    "import matplotlib.pyplot as plt\n",
    "from scipy.integrate import solve_ivp"
   ]
  },
  {
   "cell_type": "code",
   "execution_count": 3,
   "id": "6f2eb23f",
   "metadata": {},
   "outputs": [],
   "source": [
    "# --- General Constants ---\n",
    "\n",
    "# μm\n",
    "zeta_er = 1\n",
    "zeta_cyt = 1\n",
    "\n",
    "# dimless\n",
    "r_er = 0.185\n",
    "beta = 1\n",
    "X = 0.4\n",
    "Y = 0.6\n",
    "\n",
    "# s^-1\n",
    "I_deg = 0.01\n",
    "k_g = 0.2\n",
    "i_g = 0.5\n",
    "\n",
    "# s\n",
    "t0 = 500\n",
    "\n",
    "# μM\n",
    "khalf_g = 0.5"
   ]
  },
  {
   "cell_type": "code",
   "execution_count": 4,
   "id": "1de776cb",
   "metadata": {},
   "outputs": [],
   "source": [
    "# --- Init Conds ---\n",
    "# µM\n",
    "ip3_cyt = 1e-6 \n",
    "c_cyt   = 0.095\n",
    "c_er    = 100.0\n",
    "c_ec    = 950.0\n",
    "cif_er = 0.1\n",
    "cif_cyt = 0                  \n",
    "g_cyt = 0\n",
    "soc_pm = 0"
   ]
  },
  {
   "cell_type": "code",
   "execution_count": 5,
   "id": "199e9adf",
   "metadata": {},
   "outputs": [],
   "source": [
    "# --- Pump Constants ---\n",
    "\n",
    "# μM/s\n",
    "Vmax_serca = 1.9\n",
    "Vmax_pmca = 0.147\n",
    "\n",
    "# μM\n",
    "Khalf_serca = 0.5\n",
    "Khalf_pmca = 0.2\n",
    "\n",
    "# dimless\n",
    "n_pmca = 2\n",
    "n_serca = 1\n",
    "\n",
    "# --- Define two pumps ---\n",
    "\n",
    "def J_serca(c_cyt):\n",
    "    num = Vmax_serca*(c_cyt)**n_serca\n",
    "    dom = c_cyt**n_serca + Khalf_serca**n_serca\n",
    "    return num/dom\n",
    "\n",
    "def J_pmca(c_cyt):\n",
    "    num = Vmax_pmca*(c_cyt)**n_pmca\n",
    "    dom = c_cyt**n_pmca + Khalf_pmca**n_pmca\n",
    "    return num/dom"
   ]
  },
  {
   "cell_type": "code",
   "execution_count": 6,
   "id": "00ec03c4",
   "metadata": {},
   "outputs": [],
   "source": [
    "# --- Channel Parameters ---\n",
    "\n",
    "v_ipr3 = 0.070              # μm/s\n",
    "k_inf = 52                  # μM\n",
    "k_act = 0.210               # μM\n",
    "k_ip3 = 0.050               # μM\n",
    "h_inh = 4                   # dimless\n",
    "h_act = 2                   # dimless\n",
    "h_ip3 = 4                   # dimless\n",
    "d1 = 0.13                   # μM\n",
    "d2 = 0.5                    # μM\n",
    "d3 = 0.0094                 # μM\n",
    "d5 = 0.08234                # μM\n",
    "v1 = 10                     # μm/s\n",
    "Vleak_er = 0.002            # μm/s\n",
    "Vleak_pm = 0.000012         # μm/s\n",
    "v_soc = 0.00012             # μm/s \n",
    "c_er_min = 10               # μM\n",
    "k_soc = 1.7                 # μm/s\n",
    "I_soc = 0.002               # s^-1\n",
    "v_cif = 1                   # μm/s\n",
    "k_cif = 2e-4                # s^-1\n",
    "cif_max = 0.1               # μM\n",
    "\n",
    "# ER Channel kwarg 'model' controls the model used in paper\n",
    "def J_er(c_cyt, c_er, ip3_cyt, model = 1):\n",
    "\n",
    "    if model == 1:\n",
    "        #print('Using Model 1 for V_IP3R')\n",
    "        def _model(c_cyt,ip3_cyt):\n",
    "            num = c_cyt*ip3_cyt*d2\n",
    "            denom = (c_cyt*ip3_cyt + ip3_cyt*d2 + d1*d2 + c_cyt*d3)*(c_cyt+d5)\n",
    "            return v1*(num/denom)**3     \n",
    "    elif model == 2:\n",
    "        #print('Using Model 2 for V_IP3R')\n",
    "        def _model(c_cyt, ip3_cyt):\n",
    "            k_inh = k_inf*(1 + (k_ip3/ip3_cyt)**h_ip3)**(-1)\n",
    "\n",
    "            term1 = (1+(k_act/c_cyt)**h_act)**(-1)\n",
    "            term2 = (1 + (c_cyt/k_inh)**h_inh)**(-1)\n",
    "            return v_ipr3*term1*term2\n",
    "    else:\n",
    "        print('Invalid. Please use model 1 or 2.')\n",
    "        return\n",
    "\n",
    "    return (_model(c_cyt, ip3_cyt) + Vleak_er)*(c_er - c_cyt)\n"
   ]
  },
  {
   "cell_type": "code",
   "execution_count": 7,
   "id": "88d5f0ea",
   "metadata": {},
   "outputs": [],
   "source": [
    "# --- Helper functions ---\n",
    "\n",
    "# G signal\n",
    "def G_sig(G, n=2):\n",
    "    num = G**n\n",
    "    denom = G**n + khalf_g**n\n",
    "    return 1 - num/denom\n",
    "\n",
    "# Piecewise function (ODE)\n",
    "def ip3_piecewise(t,ip3_cyt,g,ip3_max=10):\n",
    "    if t>t0:\n",
    "        g_sig = G_sig(g)\n",
    "        return  g_sig*I_deg*ip3_max - I_deg*ip3_cyt\n",
    "    else:\n",
    "        return -I_deg*ip3_cyt\n",
    "\n",
    "# Function used in equation (16)\n",
    "def theta(c_er):\n",
    "    if c_er < c_er_min:\n",
    "        return 1\n",
    "    return 0"
   ]
  },
  {
   "cell_type": "code",
   "execution_count": 14,
   "id": "6cee7fb6",
   "metadata": {},
   "outputs": [],
   "source": [
    "# Define overall ode system\n",
    "def ODE_SYSTEM(t,y, model=1, ip3_max = 10):\n",
    "    c_cyt, c_er, c_ec, ip3_cyt, g, soc, cif_cyt, cif_er = y\n",
    "\n",
    "    # Fluxes for Ca\n",
    "    Jer = J_er(c_cyt,c_er,ip3_cyt,model=model)\n",
    "    Jserca = J_serca(c_cyt)\n",
    "    Jpmca = J_pmca(c_cyt)\n",
    "\n",
    "    # ODE for Ca_ER\n",
    "    dc_er_dt =  zeta_er*(beta/r_er)*(-Jer + X*Jserca)\n",
    "\n",
    "    # ODE for Ca_EC\n",
    "    dc_ec_dt = 0\n",
    "\n",
    "    # Auxiliary ODE for IP3 ODE\n",
    "    dgdt= k_g*c_cyt - i_g*g\n",
    "\n",
    "    # dip3_cyt_dt \n",
    "    dip3_cyt_dt = ip3_piecewise(t,ip3_cyt,g,ip3_max=ip3_max)\n",
    "\n",
    "    # Auxiliary ODEs for J_PM\n",
    "    dcif_er_dt = -(zeta_er/r_er) * theta(c_er)*v_cif*(cif_er - cif_cyt) + k_cif*(cif_max - cif_er) \n",
    "    dcif_cyt_dt = zeta_er*theta(c_er)*v_cif*(cif_er - cif_cyt) - zeta_cyt*k_soc*cif_cyt\n",
    "    dsoc_dt = zeta_cyt*k_soc*cif_cyt - I_soc*soc\n",
    "\n",
    "    Vsoc = v_soc*soc\n",
    "    Jpm = (Vsoc + Vleak_pm)*(c_ec-c_cyt)\n",
    "    \n",
    "    dc_cyt_dt = zeta_er*beta*(Jer-X*Jserca) - zeta_cyt*beta*(Y*Jpmca - Jpm)\n",
    "    return [dc_cyt_dt, dc_er_dt, dc_ec_dt,dip3_cyt_dt,dgdt,dsoc_dt,dcif_cyt_dt,dcif_er_dt]\n"
   ]
  },
  {
   "cell_type": "code",
   "execution_count": 25,
   "id": "fbc856ae",
   "metadata": {},
   "outputs": [
    {
     "data": {
      "text/plain": [
       "[<matplotlib.lines.Line2D at 0x271c4d9cf50>]"
      ]
     },
     "execution_count": 25,
     "metadata": {},
     "output_type": "execute_result"
    },
    {
     "data": {
      "image/png": "[encoded data removed]",
      "text/plain": [
       "<Figure size 640x480 with 1 Axes>"
      ]
     },
     "metadata": {},
     "output_type": "display_data"
    }
   ],
   "source": [
    "# Initial Conditions\n",
    "y0 = [c_cyt,c_er,c_ec,ip3_cyt,g_cyt,soc_pm,cif_cyt,cif_er]\n",
    "\n",
    "t_span = (0,8000)\n",
    "t_eval = np.linspace(t_span[0],t_span[1],10000)\n",
    "\n",
    "# Define max ip3\n",
    "ip3_max = 0.04\n",
    "\n",
    "sol = solve_ivp(ODE_SYSTEM,t_span,y0,t_eval=t_eval,args=(1,ip3_max))\n",
    "plt.plot(sol.t,sol.y[0])"
   ]
  },
  {
   "cell_type": "code",
   "execution_count": null,
   "id": "35767875",
   "metadata": {},
   "outputs": [],
   "source": []
  }
 ],
 "metadata": {
  "kernelspec": {
   "display_name": "Python 3",
   "language": "python",
   "name": "python3"
  },
  "language_info": {
   "codemirror_mode": {
    "name": "ipython",
    "version": 3
   },
   "file_extension": ".py",
   "mimetype": "text/x-python",
   "name": "python",
   "nbconvert_exporter": "python",
   "pygments_lexer": "ipython3",
   "version": "3.13.2"
  }
 },
 "nbformat": 4,
 "nbformat_minor": 5
}

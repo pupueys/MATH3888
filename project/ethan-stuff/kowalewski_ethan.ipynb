{
 "cells": [
  {
   "cell_type": "markdown",
   "id": "716b886d",
   "metadata": {},
   "source": [
    "# An attempt at the Kowalewski Model\n",
    "\n",
    "We first write parameters:"
   ]
  },
  {
   "cell_type": "code",
   "execution_count": null,
   "id": "bad5093f",
   "metadata": {},
   "outputs": [],
   "source": [
    "import numpy as np\n",
    "from scipy.integrate import solve_ivp\n",
    "import matplotlib.pyplot as plt\n",
    "\n"
   ]
  }
 ],
 "metadata": {
  "language_info": {
   "name": "python"
  }
 },
 "nbformat": 4,
 "nbformat_minor": 5
}

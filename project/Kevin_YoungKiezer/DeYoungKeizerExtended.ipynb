{
 "cells": [
  {
   "cell_type": "code",
   "id": "initial_id",
   "metadata": {
    "collapsed": true,
    "ExecuteTime": {
     "end_time": "2025-10-13T04:19:27.123234Z",
     "start_time": "2025-10-13T04:19:25.678925Z"
    }
   },
   "source": [
    "import matplotlib.pyplot as plt\n",
    "from scipy.integrate import solve_ivp\n",
    "import numpy as np\n",
    "\n",
    "c1 = 0.185\n",
    "c0 = 2\n",
    "nu1 = 6\n",
    "nu2 = 0.11\n",
    "nu3 = 0.9\n",
    "k3 = 0.1\n",
    "k4 = 1.1\n",
    "\n",
    "a1 = 400\n",
    "a2 = 0.2\n",
    "a3 = 400\n",
    "a4 = 0.2\n",
    "a5 = 20\n",
    "\n",
    "d1 = 0.13\n",
    "d2 = 1.049\n",
    "d3 = 943.4e-3\n",
    "d4 = 144.5e-3\n",
    "d5 = 82.34e-3\n",
    "\n",
    "Ir = 1\n",
    "alpha = 0.97\n",
    "# nu4 = 2.8\n",
    "\n",
    "J1 = lambda C, CER, x110: c1 * (nu1 * x110 ** 3 + nu2) * (CER - C)\n",
    "J2 = lambda C: nu3 * C**2 / (C**2 + k3**2)\n",
    "CER = lambda C: (c0 - C) / c1\n",
    "dCdt = lambda C, x110: J1(C, CER(C), x110) - J2(C)\n",
    "dPdt = lambda C, P, nu4: nu4 * (C + (1 - alpha) * k4) / (C + k4) - Ir * P\n",
    "\n",
    "def deyoungkeizerode(t, x, nu4):\n",
    "    C, P, x000, x001, x010, x011, x100, x101, x110 = x\n",
    "    x111 = 1 - x000 - x001 - x010 - x011 - x100 - x101 - x110\n",
    "\n",
    "    # print(x000 + x001 + x010 + x011 + x100 + x101 + x110 + x111)\n",
    "\n",
    "    # Bottom face\n",
    "    V1 = a4 * (C * x000 - d4 * x001) # x000 to x001\n",
    "    V2 = a4 * (C * x010 - d4 * x011) # x010 to x011\n",
    "    V3 = a5 * (C * x000 - d5 * x010) # x000 to x010\n",
    "    V4 = a5 * (C * x001 - d5 * x011) # x001 to x011\n",
    "\n",
    "    # Sides\n",
    "    V5 = a1 * (P * x000 - d1 * x100) # x000 to x100\n",
    "    V6 = a1 * (P * x010 - d1 * x110) # x010 to x110\n",
    "    V7 = a3 * (P * x001 - d3 * x101) # x001 to x101\n",
    "    V8 = a3 * (P * x011 - d3 * x111) # x011 to x111\n",
    "\n",
    "    # Top face\n",
    "    V9 = a2 * (C * x100 - d2 * x101) # x100 to x101\n",
    "    V10 = a2 * (C * x110 - d2 * x111) # x110 to x111\n",
    "    V11 = a5 * (C * x100 - d5 * x110) # x100 to x110\n",
    "    V12 = a5 * (C * x101 - d5 * x111) # x101 to x111\n",
    "\n",
    "    dx000dt = -V1 - V3 - V5\n",
    "    dx001dt = V1 - V4 - V7\n",
    "    dx010dt = V3 - V2 - V6\n",
    "    dx011dt = V2 + V4 - V8\n",
    "\n",
    "    dx100dt = V5 - V9 - V11\n",
    "    dx101dt = V7 + V9 - V12\n",
    "    dx110dt = V6 - V10 + V11\n",
    "\n",
    "    # print(dx000dt + dx001dt + dx010dt + dx011dt + dx100dt + dx101dt + dx110dt + dx111dt)\n",
    "    # print(sum([x000, x001, x010, x011, x100, x101, x110, x111]))\n",
    "\n",
    "    return [dCdt(C, x110), dPdt(C, P, nu4), dx000dt, dx001dt, dx010dt, dx011dt, dx100dt, dx101dt, dx110dt]\n",
    "\n",
    "nu4 = 3.6\n",
    "t_span = [0, 100]\n",
    "y0 = [0.5, 1, 1, 0, 0, 0, 0, 0, 0]\n",
    "sol = solve_ivp(deyoungkeizerode, t_span, y0, args=(nu4,), max_step=0.1, rtol=1e-6, atol=1e-8)\n",
    "plt.plot(sol.t, sol.y[0])\n",
    "plt.plot(sol.t, sol.y[1])\n",
    "# for i in range(8):\n",
    "#     plt.plot(sol.t, sol.y[i])\n",
    "# plt.xlim(40, 140)\n",
    "# plt.ylim(0, 0.6)\n",
    "plt.xlabel('Time (s)')\n",
    "plt.ylabel('[Ca2+], [IP3]')\n",
    "# print(', '.join(list(map(str, sol.y[:, -1]))))"
   ],
   "outputs": [
    {
     "data": {
      "text/plain": [
       "Text(0, 0.5, '[Ca2+], [IP3]')"
      ]
     },
     "execution_count": 10,
     "metadata": {},
     "output_type": "execute_result"
    },
    {
     "data": {
      "text/plain": [
       "<Figure size 640x480 with 1 Axes>"
      ],
      "image/png": "[encoded data removed]"
     },
     "metadata": {},
     "output_type": "display_data",
     "jetTransient": {
      "display_id": null
     }
    }
   ],
   "execution_count": 10
  },
  {
   "metadata": {
    "ExecuteTime": {
     "end_time": "2025-10-13T04:15:14.504403Z",
     "start_time": "2025-10-13T04:15:14.495271Z"
    }
   },
   "cell_type": "code",
   "source": [
    "from scipy.optimize import fsolve\n",
    "\n",
    "def find_steady_state(nu4, initial_guess=None):\n",
    "    if initial_guess is None:\n",
    "        initial_guess = [0.5, 1, 1, 0, 0, 0, 0, 0, 0]\n",
    "#\n",
    "    func = lambda x: deyoungkeizerode(0, x, nu4)\n",
    "    state = fsolve(func, initial_guess)\n",
    "    return state\n",
    "\n",
    "def find_limit_cycle(nu4, initial_state):\n",
    "    # (min, max)\n",
    "    t_span = [0, 200]\n",
    "    sol = solve_ivp(deyoungkeizerode, t_span, initial_state, args=(nu4,), max_step=0.1, rtol=1e-6, atol=1e-6)\n",
    "    return min(sol.y[0][100:]), max(sol.y[0][100:])\n",
    "\n",
    "def is_hopf(eigvals, prev_eigvals):\n",
    "    conjugates = eigvals[np.where(np.imag(eigvals) != 0)]\n",
    "    if conjugates.size == 0:\n",
    "        return False\n",
    "\n",
    "    new_real = np.real(conjugates[0])\n",
    "\n",
    "    conjugates = prev_eigvals[np.where(np.imag(prev_eigvals) != 0)]\n",
    "    if conjugates.size == 0:\n",
    "        return False\n",
    "\n",
    "    prev_real = np.real(conjugates[0])\n",
    "\n",
    "    # if new_real * prev_real < 0:\n",
    "    #     print(new_real, prev_real)\n",
    "\n",
    "    return new_real * prev_real < 0\n",
    "\n",
    "def frequency(eigvals):\n",
    "    conjugates = eigvals[np.where(np.imag(eigvals) != 0)]\n",
    "    return 1 / 2 / np.pi * 1000 * abs(np.imag(conjugates[0]))"
   ],
   "id": "8d88285e8c172d5f",
   "outputs": [],
   "execution_count": 4
  },
  {
   "metadata": {
    "ExecuteTime": {
     "end_time": "2025-10-13T04:18:25.550225Z",
     "start_time": "2025-10-13T04:18:13.078997Z"
    }
   },
   "cell_type": "code",
   "source": [
    "import scipy.differentiate\n",
    "\n",
    "eps = 1e-10\n",
    "n_points = 10\n",
    "nu4s = np.linspace(1.5, 3.4, n_points)\n",
    "stabilities = np.zeros_like(nu4s)\n",
    "states = np.zeros((9, n_points))\n",
    "prev_eigvals = np.zeros(9)\n",
    "marker_size = 10\n",
    "\n",
    "for i, nu4 in enumerate(nu4s):\n",
    "    # print(i)\n",
    "    if i == 0:\n",
    "        guess = [0.06587107725689609, 0.12720471099725644, 0.2225037245788215, 0.10163400222531772, 0.17799901877163418, 0.08130538062164984, 0.2177193766479666, 0.013703946438524172, 0.17417162558661056]\n",
    "    else:\n",
    "        guess = states[:, i - 1]\n",
    "\n",
    "    new_state = find_steady_state(nu4, guess)\n",
    "    eigvals = np.linalg.eigvals(scipy.differentiate.jacobian(lambda x: deyoungkeizerode(0, x, nu4), new_state).df)\n",
    "    stable = max(eigvals) < eps\n",
    "\n",
    "    if not stable:\n",
    "        bounds = find_limit_cycle(nu4, guess)\n",
    "        plt.scatter(nu4, bounds[0], c='g', s=marker_size)\n",
    "        plt.scatter(nu4, bounds[1], c='g', s=marker_size)\n",
    "\n",
    "    if is_hopf(eigvals, prev_eigvals):\n",
    "        plt.scatter(nu4, new_state[0], c='purple', s=marker_size * 5, zorder=2)\n",
    "        plt.text(nu4 + 0.05, new_state[0] - 0.02, 'HB')\n",
    "        print(f'HB ({nu4:.3f}, {new_state[0]:.3f}) | f = {frequency(eigvals):.2f} Hz')\n",
    "\n",
    "    states[:, i] = new_state\n",
    "    stabilities[i] = stable\n",
    "    prev_eigvals = eigvals\n",
    "\n",
    "colors = ['blue' if stable else 'red' for stable in stabilities]\n",
    "plt.scatter(nu4s, states[0], c=colors, s=marker_size)\n",
    "plt.ylabel('[Ca2+]')\n",
    "plt.xlabel('$\\\\nu_4 (s^{-1})$')\n",
    "# plt.legend()"
   ],
   "id": "367bdc57ae70f2d8",
   "outputs": [
    {
     "name": "stderr",
     "output_type": "stream",
     "text": [
      "C:\\Users\\Austin\\AppData\\Local\\Temp\\ipykernel_25128\\456837764.py:8: RuntimeWarning: The iteration is not making good progress, as measured by the \n",
      " improvement from the last five Jacobian evaluations.\n",
      "  state = fsolve(func, initial_guess)\n",
      "C:\\Users\\Austin\\AppData\\Local\\Temp\\ipykernel_25128\\456837764.py:8: RuntimeWarning: The iteration is not making good progress, as measured by the \n",
      " improvement from the last ten iterations.\n",
      "  state = fsolve(func, initial_guess)\n"
     ]
    },
    {
     "data": {
      "text/plain": [
       "Text(0.5, 0, '$\\\\nu_4 (s^{-1})$')"
      ]
     },
     "execution_count": 8,
     "metadata": {},
     "output_type": "execute_result"
    },
    {
     "data": {
      "text/plain": [
       "<Figure size 640x480 with 1 Axes>"
      ],
      "image/png": "[encoded data removed]"
     },
     "metadata": {},
     "output_type": "display_data",
     "jetTransient": {
      "display_id": null
     }
    }
   ],
   "execution_count": 8
  }
 ],
 "metadata": {
  "kernelspec": {
   "display_name": "Python 3",
   "language": "python",
   "name": "python3"
  },
  "language_info": {
   "codemirror_mode": {
    "name": "ipython",
    "version": 2
   },
   "file_extension": ".py",
   "mimetype": "text/x-python",
   "name": "python",
   "nbconvert_exporter": "python",
   "pygments_lexer": "ipython2",
   "version": "2.7.6"
  }
 },
 "nbformat": 4,
 "nbformat_minor": 5
}

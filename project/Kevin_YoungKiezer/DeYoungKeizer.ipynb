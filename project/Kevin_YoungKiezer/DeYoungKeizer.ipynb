{
 "cells": [
  {
   "metadata": {
    "collapsed": true,
    "ExecuteTime": {
     "end_time": "2025-10-10T03:55:43.199179Z",
     "start_time": "2025-10-10T03:55:39.678602Z"
    }
   },
   "cell_type": "code",
   "source": [
    "import matplotlib.pyplot as plt\n",
    "from scipy.integrate import solve_ivp\n",
    "import numpy as np\n",
    "\n",
    "from Project.MATH3888.project.Kevin_YoungKiezer.FullSystemBifurcation import \\\n",
    "    prev_real_parts\n",
    "\n",
    "c1 = 0.185\n",
    "c0 = 2\n",
    "nu1 = 6\n",
    "nu2 = 0.11\n",
    "nu3 = 0.9\n",
    "k3 = 0.1\n",
    "\n",
    "a1 = 400\n",
    "a2 = 0.2\n",
    "a3 = 400\n",
    "a4 = 0.2\n",
    "a5 = 20\n",
    "\n",
    "d1 = 0.13\n",
    "d2 = 1.049\n",
    "d3 = 943.4e-3\n",
    "d4 = 144.5e-3\n",
    "d5 = 82.34e-3\n",
    "\n",
    "J1 = lambda C, CER, x110: c1 * (nu1 * x110 ** 3 + nu2) * (CER - C)\n",
    "J2 = lambda C: nu3 * C**2 / (C**2 + k3**2)\n",
    "CER = lambda C: (c0 - C) / c1\n",
    "dCdt = lambda C, x110: J1(C, CER(C), x110) - J2(C)\n",
    "\n",
    "def deyoungkeizerode(t, x, P):\n",
    "    C, x000, x001, x010, x011, x100, x101, x110 = x\n",
    "    x111 = 1 - x000 - x001 - x010 - x011 - x100 - x101 - x110\n",
    "\n",
    "    # print(x000 + x001 + x010 + x011 + x100 + x101 + x110 + x111)\n",
    "\n",
    "    # Bottom face\n",
    "    V1 = a4 * (C * x000 - d4 * x001) # x000 to x001\n",
    "    V2 = a4 * (C * x010 - d4 * x011) # x010 to x011\n",
    "    V3 = a5 * (C * x000 - d5 * x010) # x000 to x010\n",
    "    V4 = a5 * (C * x001 - d5 * x011) # x001 to x011\n",
    "\n",
    "    # Sides\n",
    "    V5 = a1 * (P * x000 - d1 * x100) # x000 to x100\n",
    "    V6 = a1 * (P * x010 - d1 * x110) # x010 to x110\n",
    "    V7 = a3 * (P * x001 - d3 * x101) # x001 to x101\n",
    "    V8 = a3 * (P * x011 - d3 * x111) # x011 to x111\n",
    "\n",
    "    # Top face\n",
    "    V9 = a2 * (C * x100 - d2 * x101) # x100 to x101\n",
    "    V10 = a2 * (C * x110 - d2 * x111) # x110 to x111\n",
    "    V11 = a5 * (C * x100 - d5 * x110) # x100 to x110\n",
    "    V12 = a5 * (C * x101 - d5 * x111) # x101 to x111\n",
    "\n",
    "    dx000dt = -V1 - V3 - V5\n",
    "    dx001dt = V1 - V4 - V7\n",
    "    dx010dt = V3 - V2 - V6\n",
    "    dx011dt = V2 + V4 - V8\n",
    "\n",
    "    dx100dt = V5 - V9 - V11\n",
    "    dx101dt = V7 + V9 - V12\n",
    "    dx110dt = V6 - V10 + V11\n",
    "\n",
    "    # print(dx000dt + dx001dt + dx010dt + dx011dt + dx100dt + dx101dt + dx110dt + dx111dt)\n",
    "    # print(sum([x000, x001, x010, x011, x100, x101, x110, x111]))\n",
    "\n",
    "    return [dCdt(C, x110), dx000dt, dx001dt, dx010dt, dx011dt, dx100dt, dx101dt, dx110dt]\n",
    "\n",
    "P = 0.2\n",
    "t_span = [0, 200]\n",
    "y0 = [0.14, 1, 0, 0, 0, 0, 0, 0]\n",
    "sol = solve_ivp(deyoungkeizerode, t_span, y0, args=(P,), max_step=0.1, rtol=1e-6, atol=1e-8)\n",
    "plt.plot(sol.t, sol.y[0])\n",
    "# for i in range(8):\n",
    "#     plt.plot(sol.t, sol.y[i])\n",
    "plt.xlim(40, 140)\n",
    "plt.ylim(0, 0.6)\n",
    "plt.xlabel('Time (s)')\n",
    "plt.ylabel('[Ca2+]')\n",
    "# print(', '.join(list(map(str, sol.y[:, -1]))))"
   ],
   "id": "initial_id",
   "outputs": [
    {
     "data": {
      "text/plain": [
       "Text(0, 0.5, '[Ca2+]')"
      ]
     },
     "execution_count": 8,
     "metadata": {},
     "output_type": "execute_result"
    },
    {
     "data": {
      "text/plain": [
       "<Figure size 640x480 with 1 Axes>"
      ],
      "image/png": "[encoded data removed]"
     },
     "metadata": {},
     "output_type": "display_data"
    }
   ],
   "execution_count": 8
  },
  {
   "metadata": {
    "ExecuteTime": {
     "end_time": "2025-10-10T04:15:50.009482Z",
     "start_time": "2025-10-10T04:15:50.001985Z"
    }
   },
   "cell_type": "code",
   "source": [
    "from scipy.optimize import fsolve\n",
    "\n",
    "# def find_steady_state(P, initial_guess=None, unsteady=False):\n",
    "#     if initial_guess is None:\n",
    "#         initial_guess = [0.35153765614145677, 0.017867877002622323, 0.04345427064541731, 0.07628419849862714, 0.18552153610183472, 0.09621165265182983, 0.032242972065326996, 0.41076109991665005]\n",
    "#\n",
    "#     # func = lambda x: deyoungkeizerode(0, x, P)\n",
    "#     # C, x000, x001, x010, x011, x100, x101, x110, x111 = fsolve(func, initial_guess)\n",
    "#     # return C, x000, x001, x010, x011, x100, x101, x110, x111\n",
    "#\n",
    "#     eps = 1e-9\n",
    "#     def steady_state_event(t, x, P):\n",
    "#         return np.linalg.norm(deyoungkeizerode(t, x, P)) - eps\n",
    "#\n",
    "#     # Make it a terminal event\n",
    "#     steady_state_event.terminal = True\n",
    "#     # We want to trigger when the value crosses zero *downward* (norm(dxdt) < tol)\n",
    "#     steady_state_event.direction = -1\n",
    "#\n",
    "#     t_span = [0, 500]\n",
    "#     if not unsteady:\n",
    "#         sol = solve_ivp(deyoungkeizerode, t_span, initial_guess, args=(P,), max_step=0.1, rtol=1e-6, atol=1e-8, events=steady_state_event)\n",
    "#     else:\n",
    "#         sol = solve_ivp(lambda t, x, P: np.negative(deyoungkeizerode(t, x, P)), t_span, initial_guess, args=(P,), max_step=0.1, rtol=1e-6, atol=1e-8, events=steady_state_event)\n",
    "#\n",
    "#     # for i in range(8):\n",
    "#     #     plt.plot(sol.t, sol.y[i], label=f'{i}')\n",
    "#\n",
    "#     plt.plot(sol.t, sol.y[0], label=f'{P}')\n",
    "#\n",
    "#     return sol.y[:, -1]\n",
    "\n",
    "def find_steady_state(P, initial_guess=None):\n",
    "    if initial_guess is None:\n",
    "        initial_guess = [0.35153765614145677, 0.017867877002622323, 0.04345427064541731, 0.07628419849862714, 0.18552153610183472, 0.09621165265182983, 0.032242972065326996, 0.41076109991665005]\n",
    "#\n",
    "    func = lambda x: deyoungkeizerode(0, x, P)\n",
    "    state = fsolve(func, initial_guess)\n",
    "    return state\n",
    "\n",
    "def find_limit_cycle(P, initial_state):\n",
    "    # (min, max)\n",
    "    t_span = [0, 200]\n",
    "    sol = solve_ivp(deyoungkeizerode, t_span, initial_state, args=(P,), max_step=0.1, rtol=1e-6, atol=1e-6)\n",
    "    return min(sol.y[0][100:]), max(sol.y[0][100:])\n",
    "\n",
    "# eigvec = [0.34355413, -0.52045281, -0.17240741,  0.47713049,  0.2416683, -0.40034827, -0.01824965,  0.36702351]\n",
    "# solution = [0.06180045, 0.25477404, 0.10894608, 0.19122117, 0.08176968, 0.19598004, 0.01154823, 0.14709321]\n",
    "#\n",
    "# y0 = solution + np.multiply(eigvec, 1e-2)\n",
    "# sol = solve_ivp(deyoungkeizerode, t_span, y0, args=(0.1,), max_step=0.1, rtol=1e-6, atol=1e-8)\n",
    "# plt.plot(sol.t, sol.y[0])\n",
    "# print(sum([0.06186739406809979, 0.0337765780431877, 0.059291949202903746, 0.03237051082804615, 0.23795152096795955, 0.01790151402354118, 0.22804596357260917, 0.017156301410892524]))\n",
    "# print(deyoungkeizerode(0, (0.07891231190364839, 0.06186739406809979, 0.0337765780431877, 0.059291949202903746, 0.03237051082804615, 0.23795152096795955, 0.01790151402354118, 0.22804596357260917, 0.017156301410892524), 0.5))"
   ],
   "id": "95bbeacbae3b36e3",
   "outputs": [],
   "execution_count": 20
  },
  {
   "metadata": {
    "ExecuteTime": {
     "end_time": "2025-10-10T04:04:11.169021Z",
     "start_time": "2025-10-10T04:04:11.145196Z"
    }
   },
   "cell_type": "code",
   "source": [
    "import sympy as sp\n",
    "\n",
    "def jacobian(state, P):\n",
    "    # print(state, P)\n",
    "    C, x000, x001, x010, x011, x100, x101, x110, x111 = sp.symbols('C x000 x001 x010 x011 x100 x101 x110 x111')\n",
    "    dCdt = c1 * (nu1 * x110 ** 3 + nu2) * ((c0 - C) / c1 - C)\n",
    "    x111 = 1 - x000 - x001 - x010 - x011 - x100 - x101 - x110\n",
    "\n",
    "    # Bottom face\n",
    "    V1 = a4 * (C * x000 - d4 * x001) # x000 to x001\n",
    "    V2 = a4 * (C * x010 - d4 * x011) # x010 to x011\n",
    "    V3 = a5 * (C * x000 - d5 * x010) # x000 to x010\n",
    "    V4 = a5 * (C * x001 - d5 * x011) # x001 to x011\n",
    "\n",
    "    # Sides\n",
    "    V5 = a1 * (P * x000 - d1 * x100) # x000 to x100\n",
    "    V6 = a1 * (P * x010 - d1 * x110) # x010 to x110\n",
    "    V7 = a3 * (P * x001 - d3 * x101) # x001 to x101\n",
    "    V8 = a3 * (P * x011 - d3 * x111) # x011 to x111\n",
    "\n",
    "    # Top face\n",
    "    V9 = a2 * (C * x100 - d2 * x101) # x100 to x101\n",
    "    V10 = a2 * (C * x110 - d2 * x111) # x110 to x111\n",
    "    V11 = a5 * (C * x100 - d5 * x110) # x100 to x110\n",
    "    V12 = a5 * (C * x101 - d5 * x111) # x101 to x111\n",
    "\n",
    "    dx000dt = -V1 - V3 - V5\n",
    "    dx001dt = V1 - V4 - V7\n",
    "    dx010dt = V3 - V2 - V6\n",
    "    dx011dt = V2 + V4 - V8\n",
    "\n",
    "    dx100dt = V5 - V9 - V11\n",
    "    dx101dt = V7 + V9 - V12\n",
    "    dx110dt = V6 - V10 + V11\n",
    "\n",
    "    F = sp.Matrix([dCdt, dx000dt, dx001dt, dx010dt, dx011dt, dx100dt, dx101dt, dx110dt])\n",
    "    return np.array(F.jacobian([C, x000, x001, x010, x011, x100, x101, x110]).subs(list(zip([C, x000, x001, x010, x011, x100, x101, x110], state)))).astype(np.float64)\n",
    "\n",
    "# print(jacobian(solution, 0.1))\n",
    "# print(np.linalg.eigvals(scipy.differentiate.jacobian(lambda x: deyoungkeizerode(0, x, 0.1), solution).df))"
   ],
   "id": "a5c2f4ac6cb01869",
   "outputs": [
    {
     "name": "stdout",
     "output_type": "stream",
     "text": [
      "[[-1.52978068e-01  0.00000000e+00  0.00000000e+00  0.00000000e+00\n",
      "   0.00000000e+00  0.00000000e+00  0.00000000e+00  7.50389651e-01]\n",
      " [-5.14643561e+00 -4.12483691e+01  2.89000000e-02  1.64680000e+00\n",
      "   0.00000000e+00  5.20000000e+01  0.00000000e+00  0.00000000e+00]\n",
      " [-2.12796679e+00  1.23600900e-02 -4.12649090e+01  0.00000000e+00\n",
      "   1.64680000e+00  0.00000000e+00  3.77360000e+02  0.00000000e+00]\n",
      " [ 5.05723657e+00  1.23600900e+00  0.00000000e+00 -4.16591601e+01\n",
      "   2.89000000e-02  0.00000000e+00  0.00000000e+00  5.20000000e+01]\n",
      " [ 2.21716583e+00 -3.77360000e+02 -3.76123991e+02 -3.77347640e+02\n",
      "  -4.19035700e+02 -3.77360000e+02 -3.77360000e+02 -3.77360000e+02]\n",
      " [-3.95879681e+00  4.00000000e+01  0.00000000e+00  0.00000000e+00\n",
      "   0.00000000e+00 -5.32483691e+01  2.09800000e-01  1.64680000e+00]\n",
      " [-1.91768592e-01 -1.64680000e+00  3.83532000e+01 -1.64680000e+00\n",
      "  -1.64680000e+00 -1.63443991e+00 -3.80452609e+02 -1.64680000e+00]\n",
      " [ 3.89018216e+00 -2.09800000e-01 -2.09800000e-01  3.97902000e+01\n",
      "  -2.09800000e-01  1.02620900e+00 -2.09800000e-01 -5.38689601e+01]]\n",
      "[-4.17552476e+02 -4.20435285e+02 -6.73762571e+00 -6.31197249e-02\n",
      " -2.11858230e+00 -9.20123552e+01 -9.48951641e+01 -2.94139803e+00]\n"
     ]
    }
   ],
   "execution_count": 13
  },
  {
   "metadata": {
    "ExecuteTime": {
     "end_time": "2025-10-10T04:18:16.580944Z",
     "start_time": "2025-10-10T04:17:25.128202Z"
    }
   },
   "cell_type": "code",
   "source": [
    "import scipy.differentiate\n",
    "\n",
    "eps = 1e-10\n",
    "n_points = 20\n",
    "Ps = np.linspace(0.1, 0.7, n_points)\n",
    "stabilities = np.zeros_like(Ps)\n",
    "states = np.zeros((8, n_points))\n",
    "for i, P in enumerate(Ps):\n",
    "    print(i)\n",
    "    if i == 0:\n",
    "        guess = [0.35153765614145677, 0.017867877002622323, 0.04345427064541731, 0.07628419849862714, 0.18552153610183472, 0.09621165265182983, 0.032242972065326996, 0.41076109991665005]\n",
    "    else:\n",
    "        guess = states[:, i - 1]\n",
    "\n",
    "    new_state = find_steady_state(P, guess)\n",
    "    eigvals = np.linalg.eigvals(scipy.differentiate.jacobian(lambda x: deyoungkeizerode(0, x, P), new_state).df)\n",
    "    stable = max(eigvals) < eps\n",
    "\n",
    "    if not stable:\n",
    "        bounds = find_limit_cycle(P, guess)\n",
    "        plt.scatter(P, bounds[0], c='g')\n",
    "        plt.scatter(P, bounds[1], c='g')\n",
    "\n",
    "    states[:, i] = new_state\n",
    "    stabilities[i] = stable\n",
    "\n",
    "colors = ['blue' if stable else 'red' for stable in stabilities]\n",
    "plt.scatter(Ps, states[0], c=colors)\n",
    "# plt.legend()"
   ],
   "id": "c929341f156de8e7",
   "outputs": [
    {
     "name": "stdout",
     "output_type": "stream",
     "text": [
      "0\n",
      "1\n",
      "2\n",
      "3\n",
      "4\n",
      "5\n",
      "6\n",
      "7\n",
      "8\n",
      "9\n",
      "10\n",
      "11\n",
      "12\n",
      "13\n",
      "14\n",
      "15\n",
      "16\n",
      "17\n",
      "18\n",
      "19\n"
     ]
    },
    {
     "data": {
      "text/plain": [
       "<matplotlib.collections.PathCollection at 0x2566ae402d0>"
      ]
     },
     "execution_count": 22,
     "metadata": {},
     "output_type": "execute_result"
    },
    {
     "data": {
      "text/plain": [
       "<Figure size 640x480 with 1 Axes>"
      ],
      "image/png": "[encoded data removed]"
     },
     "metadata": {},
     "output_type": "display_data"
    }
   ],
   "execution_count": 22
  }
 ],
 "metadata": {
  "kernelspec": {
   "display_name": "Python 3",
   "language": "python",
   "name": "python3"
  },
  "language_info": {
   "codemirror_mode": {
    "name": "ipython",
    "version": 2
   },
   "file_extension": ".py",
   "mimetype": "text/x-python",
   "name": "python",
   "nbconvert_exporter": "python",
   "pygments_lexer": "ipython2",
   "version": "2.7.6"
  }
 },
 "nbformat": 4,
 "nbformat_minor": 5
}
